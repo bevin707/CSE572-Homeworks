{
  "cells": [
    {
      "cell_type": "markdown",
      "id": "0eb1acc4",
      "metadata": {
        "id": "0eb1acc4"
      },
      "source": [
        "# Data Mining Homework-3 Task 2"
      ]
    },
    {
      "cell_type": "code",
      "source": [
        "!pip install surprise"
      ],
      "metadata": {
        "colab": {
          "base_uri": "https://localhost:8080/"
        },
        "id": "xE-8i_7Ubdd9",
        "outputId": "4f852605-a8e0-451b-f96a-de324b1f315b"
      },
      "id": "xE-8i_7Ubdd9",
      "execution_count": 1,
      "outputs": [
        {
          "output_type": "stream",
          "name": "stdout",
          "text": [
            "Collecting surprise\n",
            "  Downloading surprise-0.1-py2.py3-none-any.whl (1.8 kB)\n",
            "Collecting scikit-surprise (from surprise)\n",
            "  Downloading scikit-surprise-1.1.3.tar.gz (771 kB)\n",
            "\u001b[2K     \u001b[90m━━━━━━━━━━━━━━━━━━━━━━━━━━━━━━━━━━━━━━━━\u001b[0m \u001b[32m772.0/772.0 kB\u001b[0m \u001b[31m4.8 MB/s\u001b[0m eta \u001b[36m0:00:00\u001b[0m\n",
            "\u001b[?25h  Preparing metadata (setup.py) ... \u001b[?25l\u001b[?25hdone\n",
            "Requirement already satisfied: joblib>=1.0.0 in /usr/local/lib/python3.10/dist-packages (from scikit-surprise->surprise) (1.3.2)\n",
            "Requirement already satisfied: numpy>=1.17.3 in /usr/local/lib/python3.10/dist-packages (from scikit-surprise->surprise) (1.25.2)\n",
            "Requirement already satisfied: scipy>=1.3.2 in /usr/local/lib/python3.10/dist-packages (from scikit-surprise->surprise) (1.11.4)\n",
            "Building wheels for collected packages: scikit-surprise\n",
            "  Building wheel for scikit-surprise (setup.py) ... \u001b[?25l\u001b[?25hdone\n",
            "  Created wheel for scikit-surprise: filename=scikit_surprise-1.1.3-cp310-cp310-linux_x86_64.whl size=3162735 sha256=58ab81f6aaf282420570c7652c34a5f0587bf1b82a1f7846b4e827de4ca4b947\n",
            "  Stored in directory: /root/.cache/pip/wheels/a5/ca/a8/4e28def53797fdc4363ca4af740db15a9c2f1595ebc51fb445\n",
            "Successfully built scikit-surprise\n",
            "Installing collected packages: scikit-surprise, surprise\n",
            "Successfully installed scikit-surprise-1.1.3 surprise-0.1\n"
          ]
        }
      ]
    },
    {
      "cell_type": "code",
      "execution_count": 2,
      "id": "4687b160",
      "metadata": {
        "id": "4687b160"
      },
      "outputs": [],
      "source": [
        "import matplotlib.pyplot as plt\n",
        "import numpy as np\n",
        "import pandas as pd\n",
        "from IPython.display import display, Markdown\n",
        "\n",
        "from surprise import Dataset\n",
        "from surprise import Reader\n",
        "from surprise.model_selection import train_test_split, cross_validate\n",
        "from surprise import accuracy\n",
        "from surprise import SVD, KNNBasic\n",
        "from sklearn.metrics import confusion_matrix, precision_score, recall_score,classification_report"
      ]
    },
    {
      "cell_type": "markdown",
      "id": "5b3121f4",
      "metadata": {
        "id": "5b3121f4"
      },
      "source": [
        "## 3(a) Read data from “ratings small.csv” with line format: 'userID movieID rating timestamp'."
      ]
    },
    {
      "cell_type": "code",
      "execution_count": 3,
      "id": "441fde4b",
      "metadata": {
        "colab": {
          "base_uri": "https://localhost:8080/",
          "height": 206
        },
        "id": "441fde4b",
        "outputId": "1f799ca0-d0f1-4f7a-ba64-6cfb994e010e"
      },
      "outputs": [
        {
          "output_type": "execute_result",
          "data": {
            "text/plain": [
              "   userId  movieId  rating   timestamp\n",
              "0       1       31     2.5  1260759144\n",
              "1       1     1029     3.0  1260759179\n",
              "2       1     1061     3.0  1260759182\n",
              "3       1     1129     2.0  1260759185\n",
              "4       1     1172     4.0  1260759205"
            ],
            "text/html": [
              "\n",
              "  <div id=\"df-01a6885d-e06f-46e8-ac9d-8e2179e98525\" class=\"colab-df-container\">\n",
              "    <div>\n",
              "<style scoped>\n",
              "    .dataframe tbody tr th:only-of-type {\n",
              "        vertical-align: middle;\n",
              "    }\n",
              "\n",
              "    .dataframe tbody tr th {\n",
              "        vertical-align: top;\n",
              "    }\n",
              "\n",
              "    .dataframe thead th {\n",
              "        text-align: right;\n",
              "    }\n",
              "</style>\n",
              "<table border=\"1\" class=\"dataframe\">\n",
              "  <thead>\n",
              "    <tr style=\"text-align: right;\">\n",
              "      <th></th>\n",
              "      <th>userId</th>\n",
              "      <th>movieId</th>\n",
              "      <th>rating</th>\n",
              "      <th>timestamp</th>\n",
              "    </tr>\n",
              "  </thead>\n",
              "  <tbody>\n",
              "    <tr>\n",
              "      <th>0</th>\n",
              "      <td>1</td>\n",
              "      <td>31</td>\n",
              "      <td>2.5</td>\n",
              "      <td>1260759144</td>\n",
              "    </tr>\n",
              "    <tr>\n",
              "      <th>1</th>\n",
              "      <td>1</td>\n",
              "      <td>1029</td>\n",
              "      <td>3.0</td>\n",
              "      <td>1260759179</td>\n",
              "    </tr>\n",
              "    <tr>\n",
              "      <th>2</th>\n",
              "      <td>1</td>\n",
              "      <td>1061</td>\n",
              "      <td>3.0</td>\n",
              "      <td>1260759182</td>\n",
              "    </tr>\n",
              "    <tr>\n",
              "      <th>3</th>\n",
              "      <td>1</td>\n",
              "      <td>1129</td>\n",
              "      <td>2.0</td>\n",
              "      <td>1260759185</td>\n",
              "    </tr>\n",
              "    <tr>\n",
              "      <th>4</th>\n",
              "      <td>1</td>\n",
              "      <td>1172</td>\n",
              "      <td>4.0</td>\n",
              "      <td>1260759205</td>\n",
              "    </tr>\n",
              "  </tbody>\n",
              "</table>\n",
              "</div>\n",
              "    <div class=\"colab-df-buttons\">\n",
              "\n",
              "  <div class=\"colab-df-container\">\n",
              "    <button class=\"colab-df-convert\" onclick=\"convertToInteractive('df-01a6885d-e06f-46e8-ac9d-8e2179e98525')\"\n",
              "            title=\"Convert this dataframe to an interactive table.\"\n",
              "            style=\"display:none;\">\n",
              "\n",
              "  <svg xmlns=\"http://www.w3.org/2000/svg\" height=\"24px\" viewBox=\"0 -960 960 960\">\n",
              "    <path d=\"M120-120v-720h720v720H120Zm60-500h600v-160H180v160Zm220 220h160v-160H400v160Zm0 220h160v-160H400v160ZM180-400h160v-160H180v160Zm440 0h160v-160H620v160ZM180-180h160v-160H180v160Zm440 0h160v-160H620v160Z\"/>\n",
              "  </svg>\n",
              "    </button>\n",
              "\n",
              "  <style>\n",
              "    .colab-df-container {\n",
              "      display:flex;\n",
              "      gap: 12px;\n",
              "    }\n",
              "\n",
              "    .colab-df-convert {\n",
              "      background-color: #E8F0FE;\n",
              "      border: none;\n",
              "      border-radius: 50%;\n",
              "      cursor: pointer;\n",
              "      display: none;\n",
              "      fill: #1967D2;\n",
              "      height: 32px;\n",
              "      padding: 0 0 0 0;\n",
              "      width: 32px;\n",
              "    }\n",
              "\n",
              "    .colab-df-convert:hover {\n",
              "      background-color: #E2EBFA;\n",
              "      box-shadow: 0px 1px 2px rgba(60, 64, 67, 0.3), 0px 1px 3px 1px rgba(60, 64, 67, 0.15);\n",
              "      fill: #174EA6;\n",
              "    }\n",
              "\n",
              "    .colab-df-buttons div {\n",
              "      margin-bottom: 4px;\n",
              "    }\n",
              "\n",
              "    [theme=dark] .colab-df-convert {\n",
              "      background-color: #3B4455;\n",
              "      fill: #D2E3FC;\n",
              "    }\n",
              "\n",
              "    [theme=dark] .colab-df-convert:hover {\n",
              "      background-color: #434B5C;\n",
              "      box-shadow: 0px 1px 3px 1px rgba(0, 0, 0, 0.15);\n",
              "      filter: drop-shadow(0px 1px 2px rgba(0, 0, 0, 0.3));\n",
              "      fill: #FFFFFF;\n",
              "    }\n",
              "  </style>\n",
              "\n",
              "    <script>\n",
              "      const buttonEl =\n",
              "        document.querySelector('#df-01a6885d-e06f-46e8-ac9d-8e2179e98525 button.colab-df-convert');\n",
              "      buttonEl.style.display =\n",
              "        google.colab.kernel.accessAllowed ? 'block' : 'none';\n",
              "\n",
              "      async function convertToInteractive(key) {\n",
              "        const element = document.querySelector('#df-01a6885d-e06f-46e8-ac9d-8e2179e98525');\n",
              "        const dataTable =\n",
              "          await google.colab.kernel.invokeFunction('convertToInteractive',\n",
              "                                                    [key], {});\n",
              "        if (!dataTable) return;\n",
              "\n",
              "        const docLinkHtml = 'Like what you see? Visit the ' +\n",
              "          '<a target=\"_blank\" href=https://colab.research.google.com/notebooks/data_table.ipynb>data table notebook</a>'\n",
              "          + ' to learn more about interactive tables.';\n",
              "        element.innerHTML = '';\n",
              "        dataTable['output_type'] = 'display_data';\n",
              "        await google.colab.output.renderOutput(dataTable, element);\n",
              "        const docLink = document.createElement('div');\n",
              "        docLink.innerHTML = docLinkHtml;\n",
              "        element.appendChild(docLink);\n",
              "      }\n",
              "    </script>\n",
              "  </div>\n",
              "\n",
              "\n",
              "<div id=\"df-fc1f8bf9-b271-423c-a100-4f57c18830f8\">\n",
              "  <button class=\"colab-df-quickchart\" onclick=\"quickchart('df-fc1f8bf9-b271-423c-a100-4f57c18830f8')\"\n",
              "            title=\"Suggest charts\"\n",
              "            style=\"display:none;\">\n",
              "\n",
              "<svg xmlns=\"http://www.w3.org/2000/svg\" height=\"24px\"viewBox=\"0 0 24 24\"\n",
              "     width=\"24px\">\n",
              "    <g>\n",
              "        <path d=\"M19 3H5c-1.1 0-2 .9-2 2v14c0 1.1.9 2 2 2h14c1.1 0 2-.9 2-2V5c0-1.1-.9-2-2-2zM9 17H7v-7h2v7zm4 0h-2V7h2v10zm4 0h-2v-4h2v4z\"/>\n",
              "    </g>\n",
              "</svg>\n",
              "  </button>\n",
              "\n",
              "<style>\n",
              "  .colab-df-quickchart {\n",
              "      --bg-color: #E8F0FE;\n",
              "      --fill-color: #1967D2;\n",
              "      --hover-bg-color: #E2EBFA;\n",
              "      --hover-fill-color: #174EA6;\n",
              "      --disabled-fill-color: #AAA;\n",
              "      --disabled-bg-color: #DDD;\n",
              "  }\n",
              "\n",
              "  [theme=dark] .colab-df-quickchart {\n",
              "      --bg-color: #3B4455;\n",
              "      --fill-color: #D2E3FC;\n",
              "      --hover-bg-color: #434B5C;\n",
              "      --hover-fill-color: #FFFFFF;\n",
              "      --disabled-bg-color: #3B4455;\n",
              "      --disabled-fill-color: #666;\n",
              "  }\n",
              "\n",
              "  .colab-df-quickchart {\n",
              "    background-color: var(--bg-color);\n",
              "    border: none;\n",
              "    border-radius: 50%;\n",
              "    cursor: pointer;\n",
              "    display: none;\n",
              "    fill: var(--fill-color);\n",
              "    height: 32px;\n",
              "    padding: 0;\n",
              "    width: 32px;\n",
              "  }\n",
              "\n",
              "  .colab-df-quickchart:hover {\n",
              "    background-color: var(--hover-bg-color);\n",
              "    box-shadow: 0 1px 2px rgba(60, 64, 67, 0.3), 0 1px 3px 1px rgba(60, 64, 67, 0.15);\n",
              "    fill: var(--button-hover-fill-color);\n",
              "  }\n",
              "\n",
              "  .colab-df-quickchart-complete:disabled,\n",
              "  .colab-df-quickchart-complete:disabled:hover {\n",
              "    background-color: var(--disabled-bg-color);\n",
              "    fill: var(--disabled-fill-color);\n",
              "    box-shadow: none;\n",
              "  }\n",
              "\n",
              "  .colab-df-spinner {\n",
              "    border: 2px solid var(--fill-color);\n",
              "    border-color: transparent;\n",
              "    border-bottom-color: var(--fill-color);\n",
              "    animation:\n",
              "      spin 1s steps(1) infinite;\n",
              "  }\n",
              "\n",
              "  @keyframes spin {\n",
              "    0% {\n",
              "      border-color: transparent;\n",
              "      border-bottom-color: var(--fill-color);\n",
              "      border-left-color: var(--fill-color);\n",
              "    }\n",
              "    20% {\n",
              "      border-color: transparent;\n",
              "      border-left-color: var(--fill-color);\n",
              "      border-top-color: var(--fill-color);\n",
              "    }\n",
              "    30% {\n",
              "      border-color: transparent;\n",
              "      border-left-color: var(--fill-color);\n",
              "      border-top-color: var(--fill-color);\n",
              "      border-right-color: var(--fill-color);\n",
              "    }\n",
              "    40% {\n",
              "      border-color: transparent;\n",
              "      border-right-color: var(--fill-color);\n",
              "      border-top-color: var(--fill-color);\n",
              "    }\n",
              "    60% {\n",
              "      border-color: transparent;\n",
              "      border-right-color: var(--fill-color);\n",
              "    }\n",
              "    80% {\n",
              "      border-color: transparent;\n",
              "      border-right-color: var(--fill-color);\n",
              "      border-bottom-color: var(--fill-color);\n",
              "    }\n",
              "    90% {\n",
              "      border-color: transparent;\n",
              "      border-bottom-color: var(--fill-color);\n",
              "    }\n",
              "  }\n",
              "</style>\n",
              "\n",
              "  <script>\n",
              "    async function quickchart(key) {\n",
              "      const quickchartButtonEl =\n",
              "        document.querySelector('#' + key + ' button');\n",
              "      quickchartButtonEl.disabled = true;  // To prevent multiple clicks.\n",
              "      quickchartButtonEl.classList.add('colab-df-spinner');\n",
              "      try {\n",
              "        const charts = await google.colab.kernel.invokeFunction(\n",
              "            'suggestCharts', [key], {});\n",
              "      } catch (error) {\n",
              "        console.error('Error during call to suggestCharts:', error);\n",
              "      }\n",
              "      quickchartButtonEl.classList.remove('colab-df-spinner');\n",
              "      quickchartButtonEl.classList.add('colab-df-quickchart-complete');\n",
              "    }\n",
              "    (() => {\n",
              "      let quickchartButtonEl =\n",
              "        document.querySelector('#df-fc1f8bf9-b271-423c-a100-4f57c18830f8 button');\n",
              "      quickchartButtonEl.style.display =\n",
              "        google.colab.kernel.accessAllowed ? 'block' : 'none';\n",
              "    })();\n",
              "  </script>\n",
              "</div>\n",
              "\n",
              "    </div>\n",
              "  </div>\n"
            ],
            "application/vnd.google.colaboratory.intrinsic+json": {
              "type": "dataframe",
              "variable_name": "data"
            }
          },
          "metadata": {},
          "execution_count": 3
        }
      ],
      "source": [
        "# Read dataset ratings_small.csv\n",
        "\n",
        "data = pd.read_csv('ratings_small.csv')\n",
        "data.head(5)"
      ]
    },
    {
      "cell_type": "code",
      "execution_count": 4,
      "id": "4582bd20",
      "metadata": {
        "id": "4582bd20"
      },
      "outputs": [],
      "source": [
        "# drop timestamp\n",
        "\n",
        "data = data.drop('timestamp', axis=1)"
      ]
    },
    {
      "cell_type": "code",
      "execution_count": 5,
      "id": "f10d01e7",
      "metadata": {
        "colab": {
          "base_uri": "https://localhost:8080/",
          "height": 206
        },
        "id": "f10d01e7",
        "outputId": "db786fb3-3041-4b25-d02b-54f7cdcc62e5"
      },
      "outputs": [
        {
          "output_type": "execute_result",
          "data": {
            "text/plain": [
              "   userId  movieId  rating\n",
              "0       1       31     2.5\n",
              "1       1     1029     3.0\n",
              "2       1     1061     3.0\n",
              "3       1     1129     2.0\n",
              "4       1     1172     4.0"
            ],
            "text/html": [
              "\n",
              "  <div id=\"df-850d46c4-fe92-4ec1-9baf-ba12546089b6\" class=\"colab-df-container\">\n",
              "    <div>\n",
              "<style scoped>\n",
              "    .dataframe tbody tr th:only-of-type {\n",
              "        vertical-align: middle;\n",
              "    }\n",
              "\n",
              "    .dataframe tbody tr th {\n",
              "        vertical-align: top;\n",
              "    }\n",
              "\n",
              "    .dataframe thead th {\n",
              "        text-align: right;\n",
              "    }\n",
              "</style>\n",
              "<table border=\"1\" class=\"dataframe\">\n",
              "  <thead>\n",
              "    <tr style=\"text-align: right;\">\n",
              "      <th></th>\n",
              "      <th>userId</th>\n",
              "      <th>movieId</th>\n",
              "      <th>rating</th>\n",
              "    </tr>\n",
              "  </thead>\n",
              "  <tbody>\n",
              "    <tr>\n",
              "      <th>0</th>\n",
              "      <td>1</td>\n",
              "      <td>31</td>\n",
              "      <td>2.5</td>\n",
              "    </tr>\n",
              "    <tr>\n",
              "      <th>1</th>\n",
              "      <td>1</td>\n",
              "      <td>1029</td>\n",
              "      <td>3.0</td>\n",
              "    </tr>\n",
              "    <tr>\n",
              "      <th>2</th>\n",
              "      <td>1</td>\n",
              "      <td>1061</td>\n",
              "      <td>3.0</td>\n",
              "    </tr>\n",
              "    <tr>\n",
              "      <th>3</th>\n",
              "      <td>1</td>\n",
              "      <td>1129</td>\n",
              "      <td>2.0</td>\n",
              "    </tr>\n",
              "    <tr>\n",
              "      <th>4</th>\n",
              "      <td>1</td>\n",
              "      <td>1172</td>\n",
              "      <td>4.0</td>\n",
              "    </tr>\n",
              "  </tbody>\n",
              "</table>\n",
              "</div>\n",
              "    <div class=\"colab-df-buttons\">\n",
              "\n",
              "  <div class=\"colab-df-container\">\n",
              "    <button class=\"colab-df-convert\" onclick=\"convertToInteractive('df-850d46c4-fe92-4ec1-9baf-ba12546089b6')\"\n",
              "            title=\"Convert this dataframe to an interactive table.\"\n",
              "            style=\"display:none;\">\n",
              "\n",
              "  <svg xmlns=\"http://www.w3.org/2000/svg\" height=\"24px\" viewBox=\"0 -960 960 960\">\n",
              "    <path d=\"M120-120v-720h720v720H120Zm60-500h600v-160H180v160Zm220 220h160v-160H400v160Zm0 220h160v-160H400v160ZM180-400h160v-160H180v160Zm440 0h160v-160H620v160ZM180-180h160v-160H180v160Zm440 0h160v-160H620v160Z\"/>\n",
              "  </svg>\n",
              "    </button>\n",
              "\n",
              "  <style>\n",
              "    .colab-df-container {\n",
              "      display:flex;\n",
              "      gap: 12px;\n",
              "    }\n",
              "\n",
              "    .colab-df-convert {\n",
              "      background-color: #E8F0FE;\n",
              "      border: none;\n",
              "      border-radius: 50%;\n",
              "      cursor: pointer;\n",
              "      display: none;\n",
              "      fill: #1967D2;\n",
              "      height: 32px;\n",
              "      padding: 0 0 0 0;\n",
              "      width: 32px;\n",
              "    }\n",
              "\n",
              "    .colab-df-convert:hover {\n",
              "      background-color: #E2EBFA;\n",
              "      box-shadow: 0px 1px 2px rgba(60, 64, 67, 0.3), 0px 1px 3px 1px rgba(60, 64, 67, 0.15);\n",
              "      fill: #174EA6;\n",
              "    }\n",
              "\n",
              "    .colab-df-buttons div {\n",
              "      margin-bottom: 4px;\n",
              "    }\n",
              "\n",
              "    [theme=dark] .colab-df-convert {\n",
              "      background-color: #3B4455;\n",
              "      fill: #D2E3FC;\n",
              "    }\n",
              "\n",
              "    [theme=dark] .colab-df-convert:hover {\n",
              "      background-color: #434B5C;\n",
              "      box-shadow: 0px 1px 3px 1px rgba(0, 0, 0, 0.15);\n",
              "      filter: drop-shadow(0px 1px 2px rgba(0, 0, 0, 0.3));\n",
              "      fill: #FFFFFF;\n",
              "    }\n",
              "  </style>\n",
              "\n",
              "    <script>\n",
              "      const buttonEl =\n",
              "        document.querySelector('#df-850d46c4-fe92-4ec1-9baf-ba12546089b6 button.colab-df-convert');\n",
              "      buttonEl.style.display =\n",
              "        google.colab.kernel.accessAllowed ? 'block' : 'none';\n",
              "\n",
              "      async function convertToInteractive(key) {\n",
              "        const element = document.querySelector('#df-850d46c4-fe92-4ec1-9baf-ba12546089b6');\n",
              "        const dataTable =\n",
              "          await google.colab.kernel.invokeFunction('convertToInteractive',\n",
              "                                                    [key], {});\n",
              "        if (!dataTable) return;\n",
              "\n",
              "        const docLinkHtml = 'Like what you see? Visit the ' +\n",
              "          '<a target=\"_blank\" href=https://colab.research.google.com/notebooks/data_table.ipynb>data table notebook</a>'\n",
              "          + ' to learn more about interactive tables.';\n",
              "        element.innerHTML = '';\n",
              "        dataTable['output_type'] = 'display_data';\n",
              "        await google.colab.output.renderOutput(dataTable, element);\n",
              "        const docLink = document.createElement('div');\n",
              "        docLink.innerHTML = docLinkHtml;\n",
              "        element.appendChild(docLink);\n",
              "      }\n",
              "    </script>\n",
              "  </div>\n",
              "\n",
              "\n",
              "<div id=\"df-77a3f33b-5bc6-4080-9835-80dde1504745\">\n",
              "  <button class=\"colab-df-quickchart\" onclick=\"quickchart('df-77a3f33b-5bc6-4080-9835-80dde1504745')\"\n",
              "            title=\"Suggest charts\"\n",
              "            style=\"display:none;\">\n",
              "\n",
              "<svg xmlns=\"http://www.w3.org/2000/svg\" height=\"24px\"viewBox=\"0 0 24 24\"\n",
              "     width=\"24px\">\n",
              "    <g>\n",
              "        <path d=\"M19 3H5c-1.1 0-2 .9-2 2v14c0 1.1.9 2 2 2h14c1.1 0 2-.9 2-2V5c0-1.1-.9-2-2-2zM9 17H7v-7h2v7zm4 0h-2V7h2v10zm4 0h-2v-4h2v4z\"/>\n",
              "    </g>\n",
              "</svg>\n",
              "  </button>\n",
              "\n",
              "<style>\n",
              "  .colab-df-quickchart {\n",
              "      --bg-color: #E8F0FE;\n",
              "      --fill-color: #1967D2;\n",
              "      --hover-bg-color: #E2EBFA;\n",
              "      --hover-fill-color: #174EA6;\n",
              "      --disabled-fill-color: #AAA;\n",
              "      --disabled-bg-color: #DDD;\n",
              "  }\n",
              "\n",
              "  [theme=dark] .colab-df-quickchart {\n",
              "      --bg-color: #3B4455;\n",
              "      --fill-color: #D2E3FC;\n",
              "      --hover-bg-color: #434B5C;\n",
              "      --hover-fill-color: #FFFFFF;\n",
              "      --disabled-bg-color: #3B4455;\n",
              "      --disabled-fill-color: #666;\n",
              "  }\n",
              "\n",
              "  .colab-df-quickchart {\n",
              "    background-color: var(--bg-color);\n",
              "    border: none;\n",
              "    border-radius: 50%;\n",
              "    cursor: pointer;\n",
              "    display: none;\n",
              "    fill: var(--fill-color);\n",
              "    height: 32px;\n",
              "    padding: 0;\n",
              "    width: 32px;\n",
              "  }\n",
              "\n",
              "  .colab-df-quickchart:hover {\n",
              "    background-color: var(--hover-bg-color);\n",
              "    box-shadow: 0 1px 2px rgba(60, 64, 67, 0.3), 0 1px 3px 1px rgba(60, 64, 67, 0.15);\n",
              "    fill: var(--button-hover-fill-color);\n",
              "  }\n",
              "\n",
              "  .colab-df-quickchart-complete:disabled,\n",
              "  .colab-df-quickchart-complete:disabled:hover {\n",
              "    background-color: var(--disabled-bg-color);\n",
              "    fill: var(--disabled-fill-color);\n",
              "    box-shadow: none;\n",
              "  }\n",
              "\n",
              "  .colab-df-spinner {\n",
              "    border: 2px solid var(--fill-color);\n",
              "    border-color: transparent;\n",
              "    border-bottom-color: var(--fill-color);\n",
              "    animation:\n",
              "      spin 1s steps(1) infinite;\n",
              "  }\n",
              "\n",
              "  @keyframes spin {\n",
              "    0% {\n",
              "      border-color: transparent;\n",
              "      border-bottom-color: var(--fill-color);\n",
              "      border-left-color: var(--fill-color);\n",
              "    }\n",
              "    20% {\n",
              "      border-color: transparent;\n",
              "      border-left-color: var(--fill-color);\n",
              "      border-top-color: var(--fill-color);\n",
              "    }\n",
              "    30% {\n",
              "      border-color: transparent;\n",
              "      border-left-color: var(--fill-color);\n",
              "      border-top-color: var(--fill-color);\n",
              "      border-right-color: var(--fill-color);\n",
              "    }\n",
              "    40% {\n",
              "      border-color: transparent;\n",
              "      border-right-color: var(--fill-color);\n",
              "      border-top-color: var(--fill-color);\n",
              "    }\n",
              "    60% {\n",
              "      border-color: transparent;\n",
              "      border-right-color: var(--fill-color);\n",
              "    }\n",
              "    80% {\n",
              "      border-color: transparent;\n",
              "      border-right-color: var(--fill-color);\n",
              "      border-bottom-color: var(--fill-color);\n",
              "    }\n",
              "    90% {\n",
              "      border-color: transparent;\n",
              "      border-bottom-color: var(--fill-color);\n",
              "    }\n",
              "  }\n",
              "</style>\n",
              "\n",
              "  <script>\n",
              "    async function quickchart(key) {\n",
              "      const quickchartButtonEl =\n",
              "        document.querySelector('#' + key + ' button');\n",
              "      quickchartButtonEl.disabled = true;  // To prevent multiple clicks.\n",
              "      quickchartButtonEl.classList.add('colab-df-spinner');\n",
              "      try {\n",
              "        const charts = await google.colab.kernel.invokeFunction(\n",
              "            'suggestCharts', [key], {});\n",
              "      } catch (error) {\n",
              "        console.error('Error during call to suggestCharts:', error);\n",
              "      }\n",
              "      quickchartButtonEl.classList.remove('colab-df-spinner');\n",
              "      quickchartButtonEl.classList.add('colab-df-quickchart-complete');\n",
              "    }\n",
              "    (() => {\n",
              "      let quickchartButtonEl =\n",
              "        document.querySelector('#df-77a3f33b-5bc6-4080-9835-80dde1504745 button');\n",
              "      quickchartButtonEl.style.display =\n",
              "        google.colab.kernel.accessAllowed ? 'block' : 'none';\n",
              "    })();\n",
              "  </script>\n",
              "</div>\n",
              "\n",
              "    </div>\n",
              "  </div>\n"
            ],
            "application/vnd.google.colaboratory.intrinsic+json": {
              "type": "dataframe",
              "variable_name": "data"
            }
          },
          "metadata": {},
          "execution_count": 5
        }
      ],
      "source": [
        "data.head(5)"
      ]
    },
    {
      "cell_type": "code",
      "execution_count": 6,
      "id": "d53d19f3",
      "metadata": {
        "id": "d53d19f3"
      },
      "outputs": [],
      "source": [
        "reader = Reader(rating_scale=(min(data['rating']), max(data['rating'])))\n",
        "ratings_surprise = Dataset.load_from_df(data, reader)"
      ]
    },
    {
      "cell_type": "markdown",
      "id": "fb428714",
      "metadata": {
        "id": "fb428714"
      },
      "source": [
        "## 3(c) Compute the average MAE and RMSE of the Probabilistic Matrix Factorization (PMF), User based Collaborative Filtering, Item based Collaborative Filtering, under the 5-folds cross-validation (10 points)"
      ]
    },
    {
      "cell_type": "markdown",
      "id": "6ceff997",
      "metadata": {
        "id": "6ceff997"
      },
      "source": [
        "### Probabilistic Matrix Factorization(PMF)"
      ]
    },
    {
      "cell_type": "code",
      "execution_count": 8,
      "id": "2f720848",
      "metadata": {
        "colab": {
          "base_uri": "https://localhost:8080/"
        },
        "id": "2f720848",
        "outputId": "fbf3f644-d3a8-4535-9632-55e92269e5df"
      },
      "outputs": [
        {
          "output_type": "stream",
          "name": "stdout",
          "text": [
            "Evaluating RMSE, MAE of algorithm SVD on 5 split(s).\n",
            "\n",
            "                  Fold 1  Fold 2  Fold 3  Fold 4  Fold 5  Mean    Std     \n",
            "RMSE (testset)    0.8898  0.9041  0.9008  0.8990  0.8879  0.8963  0.0063  \n",
            "MAE (testset)     0.6876  0.6960  0.6947  0.6925  0.6823  0.6906  0.0051  \n",
            "Fit time          1.56    1.50    1.82    2.48    2.62    1.99    0.47    \n",
            "Test time         0.15    0.31    0.20    0.43    0.23    0.26    0.10    \n"
          ]
        }
      ],
      "source": [
        "model_pmf = SVD()\n",
        "model_pmf_cv = cross_validate(model_pmf, ratings_surprise, measures=['RMSE', 'MAE'], cv = 5, verbose=True)"
      ]
    },
    {
      "cell_type": "code",
      "execution_count": 9,
      "id": "d8da1340",
      "metadata": {
        "colab": {
          "base_uri": "https://localhost:8080/"
        },
        "id": "d8da1340",
        "outputId": "6b34c8fd-1d9b-4624-97e9-0845bacf8f08"
      },
      "outputs": [
        {
          "output_type": "stream",
          "name": "stdout",
          "text": [
            "Average of RMSE for Probabilistic Matrix Factorization(PMF) =  0.8963287191861606\n",
            "Average of MAE for Probabilistic Matrix Factorization(PMF) =  0.690619826799568\n"
          ]
        }
      ],
      "source": [
        "avg_pmf_rmse = np.average(model_pmf_cv['test_rmse'])\n",
        "avg_pmf_mae = np.average(model_pmf_cv['test_mae'])\n",
        "print('Average of RMSE for Probabilistic Matrix Factorization(PMF) = ', avg_pmf_rmse)\n",
        "print('Average of MAE for Probabilistic Matrix Factorization(PMF) = ', avg_pmf_mae)"
      ]
    },
    {
      "cell_type": "markdown",
      "id": "23eaeed7",
      "metadata": {
        "id": "23eaeed7"
      },
      "source": [
        "### User-based collaborative filtering (UCF)"
      ]
    },
    {
      "cell_type": "code",
      "execution_count": 10,
      "id": "e1f6af00",
      "metadata": {
        "colab": {
          "base_uri": "https://localhost:8080/"
        },
        "id": "e1f6af00",
        "outputId": "8cd5fd7e-dc47-4a1b-95f5-bca4243a5959"
      },
      "outputs": [
        {
          "output_type": "stream",
          "name": "stdout",
          "text": [
            "Computing the cosine similarity matrix...\n",
            "Done computing similarity matrix.\n",
            "Computing the cosine similarity matrix...\n",
            "Done computing similarity matrix.\n",
            "Computing the cosine similarity matrix...\n",
            "Done computing similarity matrix.\n",
            "Computing the cosine similarity matrix...\n",
            "Done computing similarity matrix.\n",
            "Computing the cosine similarity matrix...\n",
            "Done computing similarity matrix.\n",
            "Evaluating RMSE, MAE of algorithm KNNBasic on 5 split(s).\n",
            "\n",
            "                  Fold 1  Fold 2  Fold 3  Fold 4  Fold 5  Mean    Std     \n",
            "RMSE (testset)    0.9904  0.9997  0.9957  0.9918  0.9962  0.9948  0.0033  \n",
            "MAE (testset)     0.7644  0.7733  0.7690  0.7663  0.7702  0.7686  0.0031  \n",
            "Fit time          0.34    0.44    0.44    0.22    0.21    0.33    0.10    \n",
            "Test time         2.76    2.59    2.48    1.45    1.60    2.18    0.54    \n"
          ]
        }
      ],
      "source": [
        "sim_options = {'name': 'cosine', 'user_based': True}\n",
        "user_cf = KNNBasic(sim_options=sim_options)\n",
        "user_cf_cv = cross_validate(user_cf, ratings_surprise, measures=['RMSE', 'MAE'], cv = 5, verbose=True)"
      ]
    },
    {
      "cell_type": "code",
      "execution_count": 11,
      "id": "e3d558a5",
      "metadata": {
        "colab": {
          "base_uri": "https://localhost:8080/",
          "height": 64
        },
        "id": "e3d558a5",
        "outputId": "f3e95e08-c13c-4f85-8723-89b544e7a59b"
      },
      "outputs": [
        {
          "output_type": "display_data",
          "data": {
            "text/plain": [
              "<IPython.core.display.Markdown object>"
            ],
            "text/markdown": "Average of RMSE for User-based collaborative filtering (UCF) = 0.9947601468945187<br>Average of MAE for User-based collaborative filtering (UCF) = 0.768646986460368<br>"
          },
          "metadata": {}
        }
      ],
      "source": [
        "avg_user_cf_rmse = np.average(user_cf_cv['test_rmse'])\n",
        "avg_user_cf_mae = np.average(user_cf_cv['test_mae'])\n",
        "text_1 = f\"Average of RMSE for User-based collaborative filtering (UCF) = {avg_user_cf_rmse}<br>Average of MAE for User-based collaborative filtering (UCF) = {avg_user_cf_mae}<br>\"\n",
        "\n",
        "display(Markdown(text_1))"
      ]
    },
    {
      "cell_type": "markdown",
      "id": "3fa86e3f",
      "metadata": {
        "id": "3fa86e3f"
      },
      "source": [
        "## Item-based collaborative filtering (ICF)"
      ]
    },
    {
      "cell_type": "code",
      "execution_count": 12,
      "id": "2468d2aa",
      "metadata": {
        "colab": {
          "base_uri": "https://localhost:8080/"
        },
        "id": "2468d2aa",
        "outputId": "4441ce38-fa95-4ed9-8c6b-678387ed4886"
      },
      "outputs": [
        {
          "output_type": "stream",
          "name": "stdout",
          "text": [
            "Computing the cosine similarity matrix...\n",
            "Done computing similarity matrix.\n",
            "Computing the cosine similarity matrix...\n",
            "Done computing similarity matrix.\n",
            "Computing the cosine similarity matrix...\n",
            "Done computing similarity matrix.\n",
            "Computing the cosine similarity matrix...\n",
            "Done computing similarity matrix.\n",
            "Computing the cosine similarity matrix...\n",
            "Done computing similarity matrix.\n",
            "Evaluating RMSE, MAE of algorithm KNNBasic on 5 split(s).\n",
            "\n",
            "                  Fold 1  Fold 2  Fold 3  Fold 4  Fold 5  Mean    Std     \n",
            "RMSE (testset)    0.9914  0.9871  1.0004  0.9965  0.9973  0.9945  0.0047  \n",
            "MAE (testset)     0.7715  0.7667  0.7768  0.7781  0.7760  0.7738  0.0042  \n",
            "Fit time          10.57   12.98   7.69    9.22    9.16    9.92    1.78    \n",
            "Test time         12.39   9.88    7.72    7.21    8.16    9.07    1.89    \n"
          ]
        }
      ],
      "source": [
        "sim_options = {'name': 'cosine', 'user_based': False}\n",
        "item_cf = KNNBasic(sim_options=sim_options)\n",
        "item_cf_cv = cross_validate(item_cf, ratings_surprise, measures=['RMSE', 'MAE'], cv = 5, verbose=True)"
      ]
    },
    {
      "cell_type": "code",
      "execution_count": 13,
      "id": "5ae01cf6",
      "metadata": {
        "colab": {
          "base_uri": "https://localhost:8080/"
        },
        "id": "5ae01cf6",
        "outputId": "3106222f-0653-47ec-ab0f-dcc94f298451"
      },
      "outputs": [
        {
          "output_type": "stream",
          "name": "stdout",
          "text": [
            "Average of RMSE for Item-based collaborative filtering (ICF) = 0.9945308927041208\n",
            "Average of MAE for Item-based collaborative filtering (ICF) = 0.7738455866167424\n"
          ]
        }
      ],
      "source": [
        "avg_item_cf_rmse = np.average(item_cf_cv['test_rmse'])\n",
        "avg_item_cf_mae = np.average(item_cf_cv['test_mae'])\n",
        "print('Average of RMSE for Item-based collaborative filtering (ICF) =', avg_item_cf_rmse)\n",
        "print('Average of MAE for Item-based collaborative filtering (ICF) =', avg_item_cf_mae)"
      ]
    },
    {
      "cell_type": "markdown",
      "id": "19a6e14b",
      "metadata": {
        "id": "19a6e14b"
      },
      "source": [
        "### 3(d) Compare the average (mean) performances of User-based collaborative filtering, item-based collaborative filtering, PMF with respect to RMSE and MAE. Which ML model is the best in the movie rating data? (10 points"
      ]
    },
    {
      "cell_type": "code",
      "execution_count": 14,
      "id": "3174153f",
      "metadata": {
        "colab": {
          "base_uri": "https://localhost:8080/",
          "height": 143
        },
        "id": "3174153f",
        "outputId": "4c705b36-9fdf-43d0-b99f-b6dffac7e311"
      },
      "outputs": [
        {
          "output_type": "display_data",
          "data": {
            "text/plain": [
              "<IPython.core.display.Markdown object>"
            ],
            "text/markdown": "|Algo|Mean RMSE|Mean MAE|\n|----|---------|--------|\n|Probability Matrix Factorization|0.8963287191861606|0.690619826799568|\n|User-based collaborative filtering|0.9947601468945187|0.768646986460368|\n|Item-based collaborative filtering|0.9945308927041208|0.7738455866167424|"
          },
          "metadata": {}
        }
      ],
      "source": [
        "text = f\"\"\"|Algo|Mean RMSE|Mean MAE|\n",
        "|----|---------|--------|\n",
        "|Probability Matrix Factorization|{avg_pmf_rmse}|{avg_pmf_mae}|\n",
        "|User-based collaborative filtering|{avg_user_cf_rmse}|{avg_user_cf_mae}|\n",
        "|Item-based collaborative filtering|{avg_item_cf_rmse}|{avg_item_cf_mae}|\"\"\"\n",
        "display(Markdown(text))"
      ]
    },
    {
      "cell_type": "markdown",
      "id": "d0b8f4d8",
      "metadata": {
        "id": "d0b8f4d8"
      },
      "source": [
        "Based on the table above, it can be observed that User-based collaborative filtering and Item-based collaborative filtering are fairly similar in the metrics performance.\n",
        "\n",
        "Numerically, it can be seen that Item-based collaborative filtering slightly pulls ahead and can be considered the better model for movie rating data for both RMSE and MAE"
      ]
    },
    {
      "cell_type": "markdown",
      "id": "cb58f419",
      "metadata": {
        "id": "cb58f419"
      },
      "source": [
        "### 3(e) Examine how the cosine, MSD (Mean Squared Difference), and Pearson similarities impact the performances of User based Collaborative Filtering and Item based Collaborative Filtering. Plot your results. Is the impact of the three metrics on User based Collaborative Filtering consistent with the impact of the three metrics on Item based Collaborative Filtering? (10 points)"
      ]
    },
    {
      "cell_type": "code",
      "execution_count": 15,
      "id": "38270079",
      "metadata": {
        "id": "38270079"
      },
      "outputs": [],
      "source": [
        "# Item-based collaborative filtering\n",
        "\n",
        "sim_options_cosine = {\n",
        "    \"name\": 'cosine',\n",
        "    'user_based': False\n",
        "}\n",
        "\n",
        "sim_options_msd = {\n",
        "    \"name\": 'msd',\n",
        "    'user_based': False\n",
        "}\n",
        "\n",
        "sim_options_pearson = {\n",
        "    \"name\": 'pearson',\n",
        "    'user_based': False\n",
        "}"
      ]
    },
    {
      "cell_type": "code",
      "execution_count": 16,
      "id": "94ccf56f",
      "metadata": {
        "colab": {
          "base_uri": "https://localhost:8080/"
        },
        "id": "94ccf56f",
        "outputId": "14de334a-4608-40bb-d884-bd7716912f5c"
      },
      "outputs": [
        {
          "output_type": "stream",
          "name": "stdout",
          "text": [
            "Computing the cosine similarity matrix...\n",
            "Done computing similarity matrix.\n",
            "Computing the cosine similarity matrix...\n",
            "Done computing similarity matrix.\n",
            "Computing the cosine similarity matrix...\n",
            "Done computing similarity matrix.\n",
            "Computing the cosine similarity matrix...\n",
            "Done computing similarity matrix.\n",
            "Computing the cosine similarity matrix...\n",
            "Done computing similarity matrix.\n",
            "Evaluating RMSE of algorithm KNNBasic on 5 split(s).\n",
            "\n",
            "                  Fold 1  Fold 2  Fold 3  Fold 4  Fold 5  Mean    Std     \n",
            "RMSE (testset)    0.9977  0.9936  0.9914  0.9955  0.9996  0.9955  0.0029  \n",
            "Fit time          7.22    6.51    6.68    6.63    6.67    6.74    0.24    \n",
            "Test time         10.07   11.75   11.67   11.17   9.68    10.87   0.84    \n",
            "Computing the msd similarity matrix...\n",
            "Done computing similarity matrix.\n",
            "Computing the msd similarity matrix...\n",
            "Done computing similarity matrix.\n",
            "Computing the msd similarity matrix...\n",
            "Done computing similarity matrix.\n",
            "Computing the msd similarity matrix...\n",
            "Done computing similarity matrix.\n",
            "Computing the msd similarity matrix...\n",
            "Done computing similarity matrix.\n",
            "Evaluating RMSE of algorithm KNNBasic on 5 split(s).\n",
            "\n",
            "                  Fold 1  Fold 2  Fold 3  Fold 4  Fold 5  Mean    Std     \n",
            "RMSE (testset)    0.9377  0.9387  0.9257  0.9329  0.9369  0.9344  0.0048  \n",
            "Fit time          5.48    5.75    4.29    4.38    5.16    5.01    0.58    \n",
            "Test time         7.34    9.69    11.98   10.71   7.78    9.50    1.75    \n",
            "Computing the pearson similarity matrix...\n",
            "Done computing similarity matrix.\n",
            "Computing the pearson similarity matrix...\n",
            "Done computing similarity matrix.\n",
            "Computing the pearson similarity matrix...\n",
            "Done computing similarity matrix.\n",
            "Computing the pearson similarity matrix...\n",
            "Done computing similarity matrix.\n",
            "Computing the pearson similarity matrix...\n",
            "Done computing similarity matrix.\n",
            "Evaluating RMSE of algorithm KNNBasic on 5 split(s).\n",
            "\n",
            "                  Fold 1  Fold 2  Fold 3  Fold 4  Fold 5  Mean    Std     \n",
            "RMSE (testset)    0.9835  0.9940  0.9913  0.9841  0.9918  0.9889  0.0043  \n",
            "Fit time          12.58   11.86   11.45   11.76   11.71   11.87   0.38    \n",
            "Test time         7.36    7.74    7.25    7.35    7.51    7.44    0.17    \n"
          ]
        }
      ],
      "source": [
        "item_cf_cosine = KNNBasic(sim_options=sim_options_cosine)\n",
        "item_cf_cosine_cv = cross_validate(algo=item_cf_cosine, data=ratings_surprise, measures=['RMSE'], cv=5, verbose=True)\n",
        "\n",
        "item_cf_msd = KNNBasic(sim_options=sim_options_msd)\n",
        "item_cf_msd_cv = cross_validate(algo=item_cf_msd, data=ratings_surprise, measures=['RMSE'], cv=5, verbose=True)\n",
        "\n",
        "item_cf_pearson = KNNBasic(sim_options=sim_options_pearson)\n",
        "item_cf_pearson_cv = cross_validate(algo=item_cf_pearson, data=ratings_surprise, measures=['RMSE'], cv=5, verbose=True)\n",
        "\n",
        "avg_item_cf_cosine_cv = np.average(item_cf_cosine_cv['test_rmse'])\n",
        "avg_item_cf_msd_cv = np.average(item_cf_msd_cv['test_rmse'])\n",
        "avg_item_cf_pearson_cv = np.average(item_cf_pearson_cv['test_rmse'])"
      ]
    },
    {
      "cell_type": "code",
      "execution_count": 17,
      "id": "d8c2caab",
      "metadata": {
        "id": "d8c2caab"
      },
      "outputs": [],
      "source": [
        "# User-based collaborative filtering\n",
        "\n",
        "sim_options_cosine = {\n",
        "    \"name\": 'cosine',\n",
        "    'user_based': True\n",
        "}\n",
        "\n",
        "sim_options_msd = {\n",
        "    \"name\": 'msd',\n",
        "    'user_based': True\n",
        "}\n",
        "\n",
        "sim_options_pearson = {\n",
        "    \"name\": 'pearson',\n",
        "    'user_based': True\n",
        "}"
      ]
    },
    {
      "cell_type": "code",
      "execution_count": 18,
      "id": "d371e742",
      "metadata": {
        "colab": {
          "base_uri": "https://localhost:8080/"
        },
        "id": "d371e742",
        "outputId": "274893ba-4e3f-491d-9f65-c066eb1abde5"
      },
      "outputs": [
        {
          "output_type": "stream",
          "name": "stdout",
          "text": [
            "Computing the cosine similarity matrix...\n",
            "Done computing similarity matrix.\n",
            "Computing the cosine similarity matrix...\n",
            "Done computing similarity matrix.\n",
            "Computing the cosine similarity matrix...\n",
            "Done computing similarity matrix.\n",
            "Computing the cosine similarity matrix...\n",
            "Done computing similarity matrix.\n",
            "Computing the cosine similarity matrix...\n",
            "Done computing similarity matrix.\n",
            "Evaluating RMSE of algorithm KNNBasic on 5 split(s).\n",
            "\n",
            "                  Fold 1  Fold 2  Fold 3  Fold 4  Fold 5  Mean    Std     \n",
            "RMSE (testset)    0.9975  0.9977  0.9965  0.9821  0.9960  0.9940  0.0059  \n",
            "Fit time          0.23    0.26    0.24    0.37    0.42    0.30    0.08    \n",
            "Test time         1.52    1.72    1.52    2.58    2.98    2.06    0.60    \n",
            "Computing the msd similarity matrix...\n",
            "Done computing similarity matrix.\n",
            "Computing the msd similarity matrix...\n",
            "Done computing similarity matrix.\n",
            "Computing the msd similarity matrix...\n",
            "Done computing similarity matrix.\n",
            "Computing the msd similarity matrix...\n",
            "Done computing similarity matrix.\n",
            "Computing the msd similarity matrix...\n",
            "Done computing similarity matrix.\n",
            "Evaluating RMSE of algorithm KNNBasic on 5 split(s).\n",
            "\n",
            "                  Fold 1  Fold 2  Fold 3  Fold 4  Fold 5  Mean    Std     \n",
            "RMSE (testset)    0.9702  0.9664  0.9704  0.9675  0.9732  0.9695  0.0024  \n",
            "Fit time          0.26    0.17    0.18    0.17    0.17    0.19    0.04    \n",
            "Test time         2.63    1.78    1.50    1.50    1.72    1.82    0.42    \n",
            "Computing the pearson similarity matrix...\n",
            "Done computing similarity matrix.\n",
            "Computing the pearson similarity matrix...\n",
            "Done computing similarity matrix.\n",
            "Computing the pearson similarity matrix...\n",
            "Done computing similarity matrix.\n",
            "Computing the pearson similarity matrix...\n",
            "Done computing similarity matrix.\n",
            "Computing the pearson similarity matrix...\n",
            "Done computing similarity matrix.\n",
            "Evaluating RMSE of algorithm KNNBasic on 5 split(s).\n",
            "\n",
            "                  Fold 1  Fold 2  Fold 3  Fold 4  Fold 5  Mean    Std     \n",
            "RMSE (testset)    1.0117  0.9970  1.0013  1.0001  0.9891  0.9998  0.0073  \n",
            "Fit time          0.29    0.53    0.56    0.64    0.30    0.46    0.14    \n",
            "Test time         1.44    2.52    2.59    2.35    1.76    2.13    0.45    \n"
          ]
        }
      ],
      "source": [
        "user_cf_cosine = KNNBasic(sim_options=sim_options_cosine)\n",
        "user_cf_cosine_cv = cross_validate(algo=user_cf_cosine, data=ratings_surprise, measures=['RMSE'], cv=5, verbose=True)\n",
        "\n",
        "user_cf_msd = KNNBasic(sim_options=sim_options_msd)\n",
        "user_cf_msd_cv = cross_validate(algo=user_cf_msd, data=ratings_surprise, measures=['RMSE'], cv=5, verbose=True)\n",
        "\n",
        "user_cf_pearson = KNNBasic(sim_options=sim_options_pearson)\n",
        "user_cf_pearson_cv = cross_validate(algo=user_cf_pearson, data=ratings_surprise, measures=['RMSE'], cv=5, verbose=True)\n",
        "\n",
        "avg_user_cf_cosine_cv = np.average(user_cf_cosine_cv['test_rmse'])\n",
        "avg_user_cf_msd_cv = np.average(user_cf_msd_cv['test_rmse'])\n",
        "avg_user_cf_pearson_cv = np.average(user_cf_pearson_cv['test_rmse'])"
      ]
    },
    {
      "cell_type": "code",
      "execution_count": 19,
      "id": "c3184c01",
      "metadata": {
        "scrolled": true,
        "colab": {
          "base_uri": "https://localhost:8080/",
          "height": 564
        },
        "id": "c3184c01",
        "outputId": "d40ffe43-0a2c-44d0-d937-df0cbf50bfe5"
      },
      "outputs": [
        {
          "output_type": "display_data",
          "data": {
            "text/plain": [
              "<Figure size 1000x600 with 1 Axes>"
            ],
            "image/png": "[encoded data removed]"
          },
          "metadata": {}
        }
      ],
      "source": [
        "final_plot = {\n",
        "    'RMSE Cosine Similarity - UCF': avg_user_cf_cosine_cv,\n",
        "    'RMSE Pearson Similarity - UCF': avg_user_cf_pearson_cv,\n",
        "    'RMSE MSD Similarity - UCF': avg_user_cf_msd_cv,\n",
        "    'RMSE Cosine Similarity - ICF': avg_item_cf_cosine_cv,\n",
        "    'RMSE Pearson Similarity - ICF': avg_item_cf_pearson_cv,\n",
        "    'RMSE MSD Similarity - ICF': avg_item_cf_msd_cv\n",
        "}\n",
        "\n",
        "fig, ax = plt.subplots(figsize=(10, 6))\n",
        "bars = ax.barh(\n",
        "    list(final_plot.keys()), list(final_plot.values()),\n",
        "    color='purple',\n",
        "    label=list(final_plot.values())\n",
        ")\n",
        "for bar in bars:\n",
        "    plt.text(bar.get_width(), bar.get_y() + bar.get_height() / 2, f'{bar.get_width():.4f}',\n",
        "             va='center', ha='left', fontsize=8, color='black')\n",
        "\n",
        "ax.set_xlabel('RMSE Value')\n",
        "ax.set_title('RMSE for Collaborative Filtering Methods based on different similarity metrics')\n",
        "plt.show()"
      ]
    },
    {
      "cell_type": "code",
      "execution_count": 20,
      "id": "94a1fac4",
      "metadata": {
        "colab": {
          "base_uri": "https://localhost:8080/",
          "height": 81
        },
        "id": "94a1fac4",
        "outputId": "9c4d0418-d0d3-497c-ee0a-b5b8cf5a0403"
      },
      "outputs": [
        {
          "output_type": "display_data",
          "data": {
            "text/plain": [
              "<IPython.core.display.Markdown object>"
            ],
            "text/markdown": "It can be observed that Item CF (0.9343820130508735) achieves **lower RMSE** Accuracy than User CF (0.9695350934907175) for **MSD similarity measure**,\n **lower RMSE** Accuracy(0.9889273570782109) than User CF (0.9998298275772457) for **Pearson similarity measure** and\n **higher RMSE** Accuracy(0.9955470729625304) than User CF(0.993977897875933) for **Cosine similarity measure**."
          },
          "metadata": {}
        }
      ],
      "source": [
        "text = \"\"\n",
        "text += f\"It can be observed that Item CF ({avg_item_cf_msd_cv}) achieves **lower RMSE**\"\n",
        "text += f\" Accuracy than User CF ({avg_user_cf_msd_cv}) for **MSD similarity measure**,\\n **lower RMSE** Accuracy({avg_item_cf_pearson_cv})\"\n",
        "text += f\" than User CF ({avg_user_cf_pearson_cv}) for **Pearson similarity measure** and\\n **higher RMSE** Accuracy({avg_item_cf_cosine_cv})\"\n",
        "text += f\" than User CF({avg_user_cf_cosine_cv}) for **Cosine similarity measure**.\"\n",
        "\n",
        "display(Markdown(text))"
      ]
    },
    {
      "cell_type": "markdown",
      "id": "55a9c9b5",
      "metadata": {
        "id": "55a9c9b5"
      },
      "source": [
        "It can be observed that the difference is not significant for Pearson and Cosine. Numerically, the impact of the 3 metrics is not significantly consistent between User-based collaborative filtering and Item-based collaborative filtering."
      ]
    },
    {
      "cell_type": "markdown",
      "id": "ac4fb51d",
      "metadata": {
        "id": "ac4fb51d"
      },
      "source": [
        "### 3(f) Examine how the number of neighbors impacts the performances of User based Collaborative Filtering and Item based Collaborative Filtering? Plot your results."
      ]
    },
    {
      "cell_type": "code",
      "execution_count": 27,
      "id": "afb5402c",
      "metadata": {
        "colab": {
          "base_uri": "https://localhost:8080/"
        },
        "id": "afb5402c",
        "outputId": "257af0c1-2fd8-4f84-c4a9-c4075833bcbf"
      },
      "outputs": [
        {
          "output_type": "stream",
          "name": "stdout",
          "text": [
            "Computing the cosine similarity matrix...\n",
            "Done computing similarity matrix.\n",
            "Computing the cosine similarity matrix...\n",
            "Done computing similarity matrix.\n",
            "Computing the cosine similarity matrix...\n",
            "Done computing similarity matrix.\n",
            "Computing the cosine similarity matrix...\n",
            "Done computing similarity matrix.\n",
            "Computing the cosine similarity matrix...\n",
            "Done computing similarity matrix.\n",
            "Computing the cosine similarity matrix...\n",
            "Done computing similarity matrix.\n",
            "Computing the cosine similarity matrix...\n",
            "Done computing similarity matrix.\n",
            "Computing the cosine similarity matrix...\n",
            "Done computing similarity matrix.\n",
            "Computing the cosine similarity matrix...\n",
            "Done computing similarity matrix.\n",
            "Computing the cosine similarity matrix...\n",
            "Done computing similarity matrix.\n",
            "Computing the cosine similarity matrix...\n",
            "Done computing similarity matrix.\n",
            "Computing the cosine similarity matrix...\n",
            "Done computing similarity matrix.\n",
            "Computing the cosine similarity matrix...\n",
            "Done computing similarity matrix.\n",
            "Computing the cosine similarity matrix...\n",
            "Done computing similarity matrix.\n",
            "Computing the cosine similarity matrix...\n",
            "Done computing similarity matrix.\n",
            "Computing the cosine similarity matrix...\n",
            "Done computing similarity matrix.\n",
            "Computing the cosine similarity matrix...\n",
            "Done computing similarity matrix.\n",
            "Computing the cosine similarity matrix...\n",
            "Done computing similarity matrix.\n",
            "Computing the cosine similarity matrix...\n",
            "Done computing similarity matrix.\n",
            "Computing the cosine similarity matrix...\n",
            "Done computing similarity matrix.\n",
            "Computing the cosine similarity matrix...\n",
            "Done computing similarity matrix.\n",
            "Computing the cosine similarity matrix...\n",
            "Done computing similarity matrix.\n",
            "Computing the cosine similarity matrix...\n",
            "Done computing similarity matrix.\n",
            "Computing the cosine similarity matrix...\n",
            "Done computing similarity matrix.\n",
            "Computing the cosine similarity matrix...\n",
            "Done computing similarity matrix.\n",
            "Computing the cosine similarity matrix...\n",
            "Done computing similarity matrix.\n",
            "Computing the cosine similarity matrix...\n",
            "Done computing similarity matrix.\n",
            "Computing the cosine similarity matrix...\n",
            "Done computing similarity matrix.\n",
            "Computing the cosine similarity matrix...\n",
            "Done computing similarity matrix.\n",
            "Computing the cosine similarity matrix...\n",
            "Done computing similarity matrix.\n",
            "Computing the cosine similarity matrix...\n",
            "Done computing similarity matrix.\n",
            "Computing the cosine similarity matrix...\n",
            "Done computing similarity matrix.\n",
            "Computing the cosine similarity matrix...\n",
            "Done computing similarity matrix.\n",
            "Computing the cosine similarity matrix...\n",
            "Done computing similarity matrix.\n",
            "Computing the cosine similarity matrix...\n",
            "Done computing similarity matrix.\n",
            "Computing the cosine similarity matrix...\n",
            "Done computing similarity matrix.\n",
            "Computing the cosine similarity matrix...\n",
            "Done computing similarity matrix.\n",
            "Computing the cosine similarity matrix...\n",
            "Done computing similarity matrix.\n",
            "Computing the cosine similarity matrix...\n",
            "Done computing similarity matrix.\n",
            "Computing the cosine similarity matrix...\n",
            "Done computing similarity matrix.\n",
            "Computing the cosine similarity matrix...\n",
            "Done computing similarity matrix.\n",
            "Computing the cosine similarity matrix...\n",
            "Done computing similarity matrix.\n",
            "Computing the cosine similarity matrix...\n",
            "Done computing similarity matrix.\n",
            "Computing the cosine similarity matrix...\n",
            "Done computing similarity matrix.\n",
            "Computing the cosine similarity matrix...\n",
            "Done computing similarity matrix.\n",
            "Computing the cosine similarity matrix...\n",
            "Done computing similarity matrix.\n",
            "Computing the cosine similarity matrix...\n",
            "Done computing similarity matrix.\n",
            "Computing the cosine similarity matrix...\n",
            "Done computing similarity matrix.\n",
            "Computing the cosine similarity matrix...\n",
            "Done computing similarity matrix.\n",
            "Computing the cosine similarity matrix...\n",
            "Done computing similarity matrix.\n",
            "Computing the cosine similarity matrix...\n",
            "Done computing similarity matrix.\n",
            "Computing the cosine similarity matrix...\n",
            "Done computing similarity matrix.\n",
            "Computing the cosine similarity matrix...\n",
            "Done computing similarity matrix.\n",
            "Computing the cosine similarity matrix...\n",
            "Done computing similarity matrix.\n",
            "Computing the cosine similarity matrix...\n",
            "Done computing similarity matrix.\n",
            "Computing the cosine similarity matrix...\n",
            "Done computing similarity matrix.\n",
            "Computing the cosine similarity matrix...\n",
            "Done computing similarity matrix.\n",
            "Computing the cosine similarity matrix...\n",
            "Done computing similarity matrix.\n",
            "Computing the cosine similarity matrix...\n",
            "Done computing similarity matrix.\n",
            "Computing the cosine similarity matrix...\n",
            "Done computing similarity matrix.\n",
            "Computing the cosine similarity matrix...\n",
            "Done computing similarity matrix.\n",
            "Computing the cosine similarity matrix...\n",
            "Done computing similarity matrix.\n",
            "Computing the cosine similarity matrix...\n",
            "Done computing similarity matrix.\n",
            "Computing the cosine similarity matrix...\n",
            "Done computing similarity matrix.\n",
            "Computing the cosine similarity matrix...\n",
            "Done computing similarity matrix.\n",
            "Computing the cosine similarity matrix...\n",
            "Done computing similarity matrix.\n",
            "Computing the cosine similarity matrix...\n",
            "Done computing similarity matrix.\n",
            "Computing the cosine similarity matrix...\n",
            "Done computing similarity matrix.\n",
            "Computing the cosine similarity matrix...\n",
            "Done computing similarity matrix.\n",
            "Computing the cosine similarity matrix...\n",
            "Done computing similarity matrix.\n",
            "Computing the cosine similarity matrix...\n",
            "Done computing similarity matrix.\n",
            "Computing the cosine similarity matrix...\n",
            "Done computing similarity matrix.\n",
            "Computing the cosine similarity matrix...\n",
            "Done computing similarity matrix.\n",
            "Computing the cosine similarity matrix...\n",
            "Done computing similarity matrix.\n",
            "Computing the cosine similarity matrix...\n",
            "Done computing similarity matrix.\n",
            "Computing the cosine similarity matrix...\n",
            "Done computing similarity matrix.\n",
            "Computing the cosine similarity matrix...\n",
            "Done computing similarity matrix.\n",
            "Computing the cosine similarity matrix...\n",
            "Done computing similarity matrix.\n",
            "Computing the cosine similarity matrix...\n",
            "Done computing similarity matrix.\n",
            "Computing the cosine similarity matrix...\n",
            "Done computing similarity matrix.\n"
          ]
        }
      ],
      "source": [
        "k_values = np.arange(5, 41, 5)\n",
        "\n",
        "def evaluate_rmse_for_different_k(model: KNNBasic, data: any):\n",
        "    cv_results = cross_validate(model, data, measures=['RMSE'], cv=5)\n",
        "    return np.average(cv_results['test_rmse'])\n",
        "\n",
        "sim_options_icf = {\n",
        "    \"name\": 'cosine',\n",
        "    \"user_based\": False\n",
        "}\n",
        "\n",
        "sim_options_ucf = {\n",
        "    \"name\": 'cosine',\n",
        "    'user_based': True\n",
        "}\n",
        "\n",
        "results = {}\n",
        "for k_val in k_values:\n",
        "    model_icf = KNNBasic(k=k_val, sim_options=sim_options_icf)\n",
        "    model_ucf = KNNBasic(k=k_val, sim_options=sim_options_ucf)\n",
        "\n",
        "    acc_icf_rmse = evaluate_rmse_for_different_k(model=model_icf, data=ratings_surprise)\n",
        "    acc_ucf_rmse = evaluate_rmse_for_different_k(model=model_ucf, data=ratings_surprise)\n",
        "    results[k_val] = (acc_icf_rmse, acc_ucf_rmse)"
      ]
    },
    {
      "cell_type": "code",
      "execution_count": 28,
      "id": "76dbc925",
      "metadata": {
        "colab": {
          "base_uri": "https://localhost:8080/",
          "height": 467
        },
        "id": "76dbc925",
        "outputId": "be3261f2-614c-4d06-a84a-b8c305a861af"
      },
      "outputs": [
        {
          "output_type": "display_data",
          "data": {
            "text/plain": [
              "<Figure size 640x480 with 1 Axes>"
            ],
            "image/png": "[encoded data removed]"
          },
          "metadata": {}
        },
        {
          "output_type": "stream",
          "name": "stdout",
          "text": [
            "{5: (1.101810617673237, 1.0433016831501785), 10: (1.051628786560279, 1.0100192629734444), 15: (1.0321280522509622, 1.0013240191778927), 20: (1.017070531767264, 0.9968730278133414), 25: (1.0070171384372681, 0.9954095981822852), 30: (1.0040266633340669, 0.9937707501345315), 35: (0.9980252109285388, 0.9944885603306914), 40: (0.995348950822431, 0.9940425331800338)}\n"
          ]
        }
      ],
      "source": [
        "fig, ax = plt.subplots()\n",
        "X = list(results.keys())\n",
        "X_axis = np.arange(len(X))\n",
        "bar1 = ax.bar(X_axis - 0.2, [x[0] for x in results.values()], width = 0.4, label='Item-based CF')\n",
        "bar2 = ax.bar(X_axis + 0.2, [x[1] for x in results.values()], width = 0.4, label='User-based CF')\n",
        "\n",
        "ax.set_xticks(X_axis, X)\n",
        "ax.legend()\n",
        "plt.show()\n",
        "print(results)"
      ]
    },
    {
      "cell_type": "markdown",
      "id": "22948030",
      "metadata": {
        "id": "22948030"
      },
      "source": [
        "It is observed that there exists consistent accuracy gap between Item-based Collaborative Filtering-ICF and User-based Collaborative Filtering-UCF, with ICF consistently outperforming UCF. The number of neighbors does not appear to significantly impact the consistency of the performance. However, it can be noticed that the RMSE accuracy keeps reducing with increasing K values."
      ]
    },
    {
      "cell_type": "markdown",
      "id": "d8281b31",
      "metadata": {
        "id": "d8281b31"
      },
      "source": [
        "### 3(g) Identify the best number of neighbor (denoted by K) for User/Item based collaborative filtering in terms of RMSE. Is the best K of User based collaborative filtering the same with the best K of Item based collaborative filtering? (10 points)"
      ]
    },
    {
      "cell_type": "code",
      "execution_count": 29,
      "id": "5e37fde4",
      "metadata": {
        "colab": {
          "base_uri": "https://localhost:8080/",
          "height": 64
        },
        "id": "5e37fde4",
        "outputId": "96cbc516-0c4c-4c97-bf09-206e01789e96"
      },
      "outputs": [
        {
          "output_type": "display_data",
          "data": {
            "text/plain": [
              "<IPython.core.display.Markdown object>"
            ],
            "text/markdown": "K = 40 has the lowest RMSE and therefore, is the best number of neighbors for Item-based collaborative filtering.\n K = 30 is the lowest RMSE and therefore, the best number of neighbors for User-based collaborative filtering."
          },
          "metadata": {}
        }
      ],
      "source": [
        "k_for_min_ucf_rmse = min(results, key=lambda x : results[x][1])\n",
        "k_for_min_icf_rmse = min(results, key=lambda x : results[x][0])\n",
        "text = \"\"\n",
        "text += f\"K = {k_for_min_icf_rmse} has the lowest RMSE and therefore, is the best number of neighbors for Item-based collaborative filtering.\\n\"\n",
        "text += f\" K = {k_for_min_ucf_rmse} is the lowest RMSE and therefore, the best number of neighbors for User-based collaborative filtering.\"\n",
        "display(Markdown(text))"
      ]
    },
    {
      "cell_type": "markdown",
      "id": "9c8f34db",
      "metadata": {
        "id": "9c8f34db"
      },
      "source": [
        "No, the best K of User based collaborative filtering is not the same with the best K of Item based collaborative filtering."
      ]
    }
  ],
  "metadata": {
    "kernelspec": {
      "display_name": "Python 3 (ipykernel)",
      "language": "python",
      "name": "python3"
    },
    "language_info": {
      "codemirror_mode": {
        "name": "ipython",
        "version": 3
      },
      "file_extension": ".py",
      "mimetype": "text/x-python",
      "name": "python",
      "nbconvert_exporter": "python",
      "pygments_lexer": "ipython3",
      "version": "3.9.13"
    },
    "colab": {
      "provenance": []
    }
  },
  "nbformat": 4,
  "nbformat_minor": 5
}