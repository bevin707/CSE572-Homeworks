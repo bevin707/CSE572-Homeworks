{
  "cells": [
    {
      "cell_type": "markdown",
      "id": "8830f3f0",
      "metadata": {
        "id": "8830f3f0"
      },
      "source": [
        "# Data Mining Homework-3 Task 1"
      ]
    },
    {
      "cell_type": "code",
      "execution_count": 38,
      "id": "7fab29c3",
      "metadata": {
        "id": "7fab29c3"
      },
      "outputs": [],
      "source": [
        "import matplotlib.pyplot as plt\n",
        "from IPython.display import display, Markdown\n",
        "import numpy as np\n",
        "import pandas as pd\n",
        "from sklearn.metrics.pairwise import pairwise_distances\n",
        "from sklearn.metrics import accuracy_score"
      ]
    },
    {
      "cell_type": "code",
      "execution_count": 39,
      "id": "dc928e62",
      "metadata": {
        "id": "dc928e62"
      },
      "outputs": [],
      "source": [
        "class KMeansClustering:\n",
        "\n",
        "    def __init__(self, k, stopping_criterion=\"no_change\") -> None:\n",
        "        self.k = k\n",
        "        self.stopping_criterion = stopping_criterion\n",
        "        self.centroids = None\n",
        "        self._sse_score = None\n",
        "        self._last_sse_score = float('inf')\n",
        "        self._iterations = 0\n",
        "\n",
        "    def euclidean_distance(self, data_point, centroids):\n",
        "        return np.sqrt(np.sum((centroids - data_point)**2, axis=1))\n",
        "\n",
        "    def __sum_of_squared_errors_calc(self, centroids, data, y):\n",
        "        sum_of_errors = 0.0\n",
        "        for idx, d in enumerate(data):\n",
        "            sum_of_errors += np.sum((centroids[y[idx]] - d) ** 2)\n",
        "\n",
        "        return sum_of_errors\n",
        "\n",
        "    def get_sum_of_squared_error(self):\n",
        "        return self._sse_score\n",
        "    def get_iterations_to_converge(self):\n",
        "        return self._iterations\n",
        "\n",
        "    def fit(self, X, max_iterations=200):\n",
        "        self.centroids = np.random.uniform(\n",
        "            low=np.amin(X, axis=0),\n",
        "            high=np.amax(X, axis=0),\n",
        "            size=(self.k, X.shape[1]))\n",
        "\n",
        "        y = []\n",
        "        for _ in range(max_iterations):\n",
        "            y = []\n",
        "            for data_point in X:\n",
        "\n",
        "                distances = self.euclidean_distance(\n",
        "                    data_point=data_point,\n",
        "                    centroids=self.centroids)\n",
        "                cluster_num = np.argmin(distances)\n",
        "                y.append(cluster_num)\n",
        "            y = np.asarray(y)\n",
        "\n",
        "            cluster_indices = []\n",
        "\n",
        "            for idx in range(self.k):\n",
        "                cluster_indices.append(np.argwhere(y == idx))\n",
        "\n",
        "            cluster_centers = []\n",
        "\n",
        "            for i, indices in enumerate(cluster_indices):\n",
        "                if len(indices) == 0:\n",
        "                    cluster_centers.append(self.centroids[i])\n",
        "                else:\n",
        "                    cluster_centers.append(np.mean(X[indices], axis=0)[0])\n",
        "\n",
        "            if self.stopping_criterion == \"no_change\" and np.max(self.centroids - np.array(cluster_centers)) < 1e-3:\n",
        "                break\n",
        "            elif self.stopping_criterion == \"increase_sse\":\n",
        "                current_sse = self.__sum_of_squared_errors_calc(X, np.array(cluster_centers), y)\n",
        "                if current_sse > self._last_sse_score:\n",
        "                    break\n",
        "                self._last_sse_score = current_sse\n",
        "            else:\n",
        "                self.centroids = np.array(cluster_centers)\n",
        "            self._iterations += 1\n",
        "\n",
        "        self._sse_score = self.__sum_of_squared_errors_calc(X, self.centroids, y)\n",
        "\n",
        "        return y"
      ]
    },
    {
      "cell_type": "code",
      "execution_count": 40,
      "id": "401024a1",
      "metadata": {
        "colab": {
          "base_uri": "https://localhost:8080/"
        },
        "id": "401024a1",
        "outputId": "69d665e3-23ff-4f3f-bcbc-8bfa257b4182"
      },
      "outputs": [
        {
          "output_type": "stream",
          "name": "stdout",
          "text": [
            "Data:  (10000, 784)\n",
            "Labels:  (10000,)\n"
          ]
        }
      ],
      "source": [
        "data = np.array(pd.read_csv('data.csv', header=None))\n",
        "labels = np.ravel(pd.read_csv('label.csv', header=None))\n",
        "print('Data: ', data.shape)\n",
        "print('Labels: ', labels.shape)"
      ]
    },
    {
      "cell_type": "code",
      "execution_count": 41,
      "id": "d2fa1ecd",
      "metadata": {
        "id": "d2fa1ecd"
      },
      "outputs": [],
      "source": [
        "unique_labels = np.unique(labels)\n",
        "no_of_clusters = unique_labels.size\n",
        "Max_iterations = 100"
      ]
    },
    {
      "cell_type": "code",
      "execution_count": 42,
      "id": "780ff701",
      "metadata": {
        "id": "780ff701"
      },
      "outputs": [],
      "source": [
        "euclidean_kmeans = KMeansClustering(k=no_of_clusters)\n",
        "euclidean_kmeans_labels = euclidean_kmeans.fit(X=data, max_iterations=Max_iterations)"
      ]
    },
    {
      "cell_type": "code",
      "execution_count": 43,
      "id": "449b1ca4",
      "metadata": {
        "id": "449b1ca4"
      },
      "outputs": [],
      "source": [
        "cosine_distances = pairwise_distances(data, metric='cosine')\n",
        "cosine_kmeans = KMeansClustering(k=no_of_clusters)\n",
        "cosine_kmeans_labels = cosine_kmeans.fit(cosine_distances, max_iterations=Max_iterations)"
      ]
    },
    {
      "cell_type": "code",
      "execution_count": 44,
      "id": "1ec7cba7",
      "metadata": {
        "id": "1ec7cba7"
      },
      "outputs": [],
      "source": [
        "jaccard_distances = pairwise_distances(data, metric='hamming')\n",
        "jaccard_kmeans = KMeansClustering(k=no_of_clusters)\n",
        "jaccard_kmeans_labels = jaccard_kmeans.fit(X=jaccard_distances, max_iterations=Max_iterations)"
      ]
    },
    {
      "cell_type": "markdown",
      "id": "934554fb",
      "metadata": {
        "id": "934554fb"
      },
      "source": [
        "### Q1. Run K-means clustering with Euclidean, Cosine and Jarcard similarity. Specify K= the number of categorical values of y (the number of classifications). Compare the SSEs of Euclidean-K-means, Cosine-K-means, Jarcard-K-means. Which method is better? (10 points)"
      ]
    },
    {
      "cell_type": "code",
      "execution_count": 45,
      "id": "5d8aab60",
      "metadata": {
        "colab": {
          "base_uri": "https://localhost:8080/"
        },
        "id": "5d8aab60",
        "outputId": "bc92a2a2-3b83-441b-aec3-c0637c20be09"
      },
      "outputs": [
        {
          "output_type": "execute_result",
          "data": {
            "text/plain": [
              "48177319.88235207"
            ]
          },
          "metadata": {},
          "execution_count": 45
        }
      ],
      "source": [
        "sse_euclidean_m = euclidean_kmeans.get_sum_of_squared_error()\n",
        "sse_euclidean_m"
      ]
    },
    {
      "cell_type": "code",
      "execution_count": 46,
      "id": "692a4da9",
      "metadata": {
        "colab": {
          "base_uri": "https://localhost:8080/"
        },
        "id": "692a4da9",
        "outputId": "3add7dac-7033-4a16-e956-621f6af4a329"
      },
      "outputs": [
        {
          "output_type": "execute_result",
          "data": {
            "text/plain": [
              "6791.817912519916"
            ]
          },
          "metadata": {},
          "execution_count": 46
        }
      ],
      "source": [
        "sse_cosine_m = cosine_kmeans.get_sum_of_squared_error()\n",
        "sse_cosine_m"
      ]
    },
    {
      "cell_type": "code",
      "execution_count": 47,
      "id": "9950e6e1",
      "metadata": {
        "colab": {
          "base_uri": "https://localhost:8080/"
        },
        "id": "9950e6e1",
        "outputId": "459086d3-d302-4063-a278-03537e4c25bc"
      },
      "outputs": [
        {
          "output_type": "execute_result",
          "data": {
            "text/plain": [
              "1608.2239855646446"
            ]
          },
          "metadata": {},
          "execution_count": 47
        }
      ],
      "source": [
        "see_jaccard_m = jaccard_kmeans.get_sum_of_squared_error()\n",
        "see_jaccard_m"
      ]
    },
    {
      "cell_type": "code",
      "execution_count": 48,
      "id": "813fc4fd",
      "metadata": {
        "colab": {
          "base_uri": "https://localhost:8080/",
          "height": 81
        },
        "id": "813fc4fd",
        "outputId": "2db68a45-e15a-4030-82b9-8723b22a64d2"
      },
      "outputs": [
        {
          "output_type": "display_data",
          "data": {
            "text/plain": [
              "<IPython.core.display.Markdown object>"
            ],
            "text/markdown": "SSE of Euclidean K-means = 48177319.88235207<br>SSE of Cosine K-means = 6791.817912519916<br>SSE of Jarcard K-means = 1608.2239855646446<br>"
          },
          "metadata": {}
        }
      ],
      "source": [
        "text1 = f\"SSE of Euclidean K-means = {sse_euclidean_m}<br>\"\n",
        "text2 = f\"SSE of Cosine K-means = {sse_cosine_m}<br>\"\n",
        "text3 = f\"SSE of Jarcard K-means = {see_jaccard_m}<br>\"\n",
        "display(Markdown(f\"{text1}{text2}{text3}\"))"
      ]
    },
    {
      "cell_type": "markdown",
      "id": "00b0b600",
      "metadata": {
        "id": "00b0b600"
      },
      "source": [
        "Based on the values above, it can implied that Euclidean K-means has the highest SSE, followed by Cosine K-means and then Jarcard K-means. The one with the lowest SSE is generally considered the better method, here, the Jarcard K-means."
      ]
    },
    {
      "cell_type": "markdown",
      "id": "01de4a35",
      "metadata": {
        "id": "01de4a35"
      },
      "source": [
        "### Q2. Compare the accuracies of Euclidean-K-means Cosine-K-means, Jarcard-K-means. First, label each cluster using the majority vote label of the data points in that cluster. Later, compute the predictive accuracy of Euclidean-K-means, Cosine-K-means, Jarcard-K-means. Which metric is better? (10 points)"
      ]
    },
    {
      "cell_type": "code",
      "execution_count": 49,
      "id": "7f30e322",
      "metadata": {
        "id": "7f30e322"
      },
      "outputs": [],
      "source": [
        "def label_clusters(labels, true_labels):\n",
        "    unique_labels = np.unique(true_labels)\n",
        "    cluster_labels = np.zeros(len(labels), dtype=int)\n",
        "    for cluster in range(no_of_clusters):\n",
        "        cluster_indices = np.where(labels == cluster)[0]\n",
        "        cluster_true_labels = true_labels[cluster_indices]\n",
        "        majority_label = np.argmax([np.sum(cluster_true_labels == label) for label in unique_labels])\n",
        "        cluster_labels[cluster_indices] = majority_label\n",
        "    return cluster_labels\n",
        "\n",
        "# Label clusters\n",
        "cluster_labels_euclidean = label_clusters(euclidean_kmeans_labels, labels)\n",
        "cluster_labels_cosine = label_clusters(cosine_kmeans_labels, labels)\n",
        "cluster_labels_jaccard = label_clusters(jaccard_kmeans_labels, labels)\n",
        "\n",
        "# Compute predictive accuracy\n",
        "accuracy_euclidean = accuracy_score(labels, cluster_labels_euclidean)\n",
        "accuracy_cosine = accuracy_score(labels, cluster_labels_cosine)\n",
        "accuracy_jaccard = accuracy_score(labels, cluster_labels_jaccard)"
      ]
    },
    {
      "cell_type": "code",
      "execution_count": 50,
      "id": "513e0821",
      "metadata": {
        "colab": {
          "base_uri": "https://localhost:8080/",
          "height": 81
        },
        "id": "513e0821",
        "outputId": "f8072151-24c3-4f0b-81f3-47d5d29e9923"
      },
      "outputs": [
        {
          "output_type": "display_data",
          "data": {
            "text/plain": [
              "<IPython.core.display.Markdown object>"
            ],
            "text/markdown": "Accuracy of Euclidean-K-means =  59.51%<br>Accuracy of Cosine-K-means = 33.85%<br>Accuracy of Jaccard-K-means = 28.17%<br>"
          },
          "metadata": {}
        }
      ],
      "source": [
        "acc_text1 = f\"Accuracy of Euclidean-K-means =  {accuracy_euclidean * 100}%<br>\"\n",
        "acc_text2 = f\"Accuracy of Cosine-K-means = {accuracy_cosine * 100}%<br>\"\n",
        "acc_text3 = f\"Accuracy of Jaccard-K-means = {accuracy_jaccard * 100}%<br>\"\n",
        "display(Markdown(f\"{acc_text1}{acc_text2}{acc_text3}\"))"
      ]
    },
    {
      "cell_type": "markdown",
      "id": "cc373e0b",
      "metadata": {
        "id": "cc373e0b"
      },
      "source": [
        "Based on accuracy, it is observed that Euclidean accuracy perform better."
      ]
    },
    {
      "cell_type": "markdown",
      "id": "3a926460",
      "metadata": {
        "id": "3a926460"
      },
      "source": [
        "### Q3: Set up the same stop criteria: “when there is no change in centroid position OR when the SSE value increases in the next iteration OR when the maximum preset value (e.g., 500, you can set the preset value by yourself) of iteration is complete”, for Euclidean-K-means, Cosine-K-means, Jarcard-K-means. Which method requires more iterations and times to converge? (10 points)"
      ]
    },
    {
      "cell_type": "code",
      "execution_count": 51,
      "id": "5fd3e9af",
      "metadata": {
        "colab": {
          "base_uri": "https://localhost:8080/",
          "height": 81
        },
        "id": "5fd3e9af",
        "outputId": "560041f0-ca52-4fd0-9a65-3c64b55cebc2"
      },
      "outputs": [
        {
          "output_type": "display_data",
          "data": {
            "text/plain": [
              "<IPython.core.display.Markdown object>"
            ],
            "text/markdown": "Iterations to converge for Euclidean-K-means = **93** <br>Iterations to converge for Cosine-K-means = **29** <br>Iterations to converge for Jaccard-K-means = **5** <br>"
          },
          "metadata": {}
        }
      ],
      "source": [
        "euclidean_iterations = euclidean_kmeans.get_iterations_to_converge()\n",
        "cosine_iterations = cosine_kmeans.get_iterations_to_converge()\n",
        "jacard_iterations = jaccard_kmeans.get_iterations_to_converge()\n",
        "\n",
        "text_1 = f\"Iterations to converge for Euclidean-K-means = **{euclidean_iterations}** <br>\"\n",
        "text_2 = f\"Iterations to converge for Cosine-K-means = **{cosine_iterations}** <br>\"\n",
        "text_3 = f\"Iterations to converge for Jaccard-K-means = **{jacard_iterations}** <br>\"\n",
        "\n",
        "display(Markdown(f\"{text_1}{text_2}{text_3}\"))"
      ]
    },
    {
      "cell_type": "markdown",
      "id": "319d569e",
      "metadata": {
        "id": "319d569e"
      },
      "source": [
        "From the results it can be seen that Euclidean K-means take more iterations to converge."
      ]
    },
    {
      "cell_type": "markdown",
      "id": "b13a13b4",
      "metadata": {
        "id": "b13a13b4"
      },
      "source": [
        "### Q4: Compare the SSEs of Euclidean-K-means Cosine-K-means, Jarcard-K-means with respect to  the following three terminating conditions: (10 points)\n",
        "  > - when there is no change in centroid position\n",
        "  > - when the SSE value increases in the next iteration\n",
        "  > - when the maximum preset value (e.g., 100) of iteration is complete"
      ]
    },
    {
      "cell_type": "markdown",
      "id": "193ea301",
      "metadata": {
        "id": "193ea301"
      },
      "source": [
        "##### (a) when there is no change in centroid position"
      ]
    },
    {
      "cell_type": "code",
      "execution_count": 52,
      "id": "07e031e8",
      "metadata": {
        "colab": {
          "base_uri": "https://localhost:8080/"
        },
        "id": "07e031e8",
        "outputId": "b77061b8-8c25-4642-bd70-d998575458d7"
      },
      "outputs": [
        {
          "output_type": "stream",
          "name": "stdout",
          "text": [
            "SSE of Euclidean K-means when there is no change in centroid position = 48450382.25619897\n"
          ]
        }
      ],
      "source": [
        "euclidean_kmeans_1 = KMeansClustering(k=no_of_clusters, stopping_criterion=\"no_change\")\n",
        "euclidean_kmeans_1_predicted_labels = euclidean_kmeans_1.fit(data, max_iterations=Max_iterations)\n",
        "sse_euclidean_kmeans_1 = euclidean_kmeans_1.get_sum_of_squared_error()\n",
        "print('SSE of Euclidean K-means when there is no change in centroid position =', sse_euclidean_kmeans_1)"
      ]
    },
    {
      "cell_type": "code",
      "execution_count": 53,
      "id": "42ecec4a",
      "metadata": {
        "colab": {
          "base_uri": "https://localhost:8080/"
        },
        "id": "42ecec4a",
        "outputId": "c5b8db3e-e758-4582-d3c7-6e4ca9d1d89e"
      },
      "outputs": [
        {
          "output_type": "stream",
          "name": "stdout",
          "text": [
            "SSE of Cosine K-means when there is no change in centroid position = 2713.7960774918047\n"
          ]
        }
      ],
      "source": [
        "cosine_kmeans_1 = KMeansClustering(k=no_of_clusters, stopping_criterion=\"no_change\")\n",
        "cosine_kmeans_1_predicted_labels = cosine_kmeans_1.fit(cosine_distances, max_iterations=Max_iterations)\n",
        "sse_cosine_kmeans_1 = cosine_kmeans_1.get_sum_of_squared_error()\n",
        "print('SSE of Cosine K-means when there is no change in centroid position =', sse_cosine_kmeans_1)"
      ]
    },
    {
      "cell_type": "code",
      "execution_count": 54,
      "id": "58494d12",
      "metadata": {
        "colab": {
          "base_uri": "https://localhost:8080/"
        },
        "id": "58494d12",
        "outputId": "bbc7e046-8f61-4cfe-ff37-8ac43231aba4"
      },
      "outputs": [
        {
          "output_type": "stream",
          "name": "stdout",
          "text": [
            "SSE of Jaccard K-means when there is no change in centroid position = 1786.7832535384596\n"
          ]
        }
      ],
      "source": [
        "jaccard_kmeans_1 = KMeansClustering(k=no_of_clusters, stopping_criterion=\"no_change\")\n",
        "jaccard_kmeans_1_predicted_labels = jaccard_kmeans_1.fit(jaccard_distances, max_iterations=Max_iterations)\n",
        "sse_jaccard_kmeans_1 = jaccard_kmeans_1.get_sum_of_squared_error()\n",
        "print('SSE of Jaccard K-means when there is no change in centroid position =', sse_jaccard_kmeans_1)"
      ]
    },
    {
      "cell_type": "markdown",
      "id": "cdc46a8b",
      "metadata": {
        "id": "cdc46a8b"
      },
      "source": [
        "##### (b) when the SSE value increases in the next iteration"
      ]
    },
    {
      "cell_type": "code",
      "execution_count": 55,
      "id": "9ab9cbf4",
      "metadata": {
        "colab": {
          "base_uri": "https://localhost:8080/"
        },
        "id": "9ab9cbf4",
        "outputId": "6f299e29-fbc9-415a-ded2-fadba5f75e9c"
      },
      "outputs": [
        {
          "output_type": "stream",
          "name": "stdout",
          "text": [
            "SSE of Euclidean K-means when the SSE value increases in the next iteration = 129016983.95835175\n"
          ]
        }
      ],
      "source": [
        "euclidean_kmeans_2 = KMeansClustering(k=no_of_clusters, stopping_criterion=\"increase_sse\")\n",
        "euclidean_kmeans_2_predicted_labels = euclidean_kmeans_2.fit(data, max_iterations=Max_iterations)\n",
        "sse_euclidean_kmeans_2 = euclidean_kmeans_2.get_sum_of_squared_error()\n",
        "print('SSE of Euclidean K-means when the SSE value increases in the next iteration =',\n",
        "      sse_euclidean_kmeans_2)"
      ]
    },
    {
      "cell_type": "code",
      "execution_count": 56,
      "id": "bc0b6c1a",
      "metadata": {
        "colab": {
          "base_uri": "https://localhost:8080/"
        },
        "id": "bc0b6c1a",
        "outputId": "3af95dbd-932f-4d8c-addb-b642432e2dc2"
      },
      "outputs": [
        {
          "output_type": "stream",
          "name": "stdout",
          "text": [
            "SSE of Cosine K-means when the SSE value increases in the next iteration = 12155.85866595439\n"
          ]
        }
      ],
      "source": [
        "cosine_kmeans_2 = KMeansClustering(k=no_of_clusters, stopping_criterion=\"increase_sse\")\n",
        "cosine_kmeans_2_predicted_labels = cosine_kmeans_2.fit(cosine_distances, max_iterations=Max_iterations)\n",
        "sse_cosine_kmeans_2 = cosine_kmeans_2.get_sum_of_squared_error()\n",
        "print('SSE of Cosine K-means when the SSE value increases in the next iteration =',\n",
        "      sse_cosine_kmeans_2)"
      ]
    },
    {
      "cell_type": "code",
      "execution_count": 57,
      "id": "6bcd8557",
      "metadata": {
        "colab": {
          "base_uri": "https://localhost:8080/"
        },
        "id": "6bcd8557",
        "outputId": "bc6ff3e2-7c2f-4f1c-f3e1-7dfe8ecae3d2"
      },
      "outputs": [
        {
          "output_type": "stream",
          "name": "stdout",
          "text": [
            "SSE of Jaccard K-means when the SSE value increases in the next iteration = 2349.8999627724443\n"
          ]
        }
      ],
      "source": [
        "jaccard_kmeans_2 = KMeansClustering(k=no_of_clusters, stopping_criterion=\"increase_sse\")\n",
        "jaccard_kmeans_2_predicted_labels = jaccard_kmeans_2.fit(jaccard_distances, max_iterations=Max_iterations)\n",
        "sse_jaccard_kmeans_2 = jaccard_kmeans_2.get_sum_of_squared_error()\n",
        "print('SSE of Jaccard K-means when the SSE value increases in the next iteration =',\n",
        "      sse_jaccard_kmeans_2)"
      ]
    },
    {
      "cell_type": "markdown",
      "id": "ebdb7c57",
      "metadata": {
        "id": "ebdb7c57"
      },
      "source": [
        "##### (c) when the maximum preset value (e.g., 100) of iteration is complete"
      ]
    },
    {
      "cell_type": "code",
      "execution_count": 58,
      "id": "82a6704e",
      "metadata": {
        "colab": {
          "base_uri": "https://localhost:8080/"
        },
        "id": "82a6704e",
        "outputId": "bacab6cc-c870-4cd9-fcf2-993db9245b09"
      },
      "outputs": [
        {
          "output_type": "stream",
          "name": "stdout",
          "text": [
            "SSE of Euclidean K-means when the maximum preset value 100 is complete = 56618625.4482222\n"
          ]
        }
      ],
      "source": [
        "euclidean_kmeans_3 = KMeansClustering(k=no_of_clusters, stopping_criterion=\"max_iterations\")\n",
        "euclidean_kmeans_3_predicted_labels = euclidean_kmeans_3.fit(data, max_iterations=Max_iterations)\n",
        "sse_euclidean_max_iteration = euclidean_kmeans_3.get_sum_of_squared_error()\n",
        "print(f'SSE of Euclidean K-means when the maximum preset value {Max_iterations} is complete =',\n",
        "      sse_euclidean_max_iteration)"
      ]
    },
    {
      "cell_type": "code",
      "execution_count": 59,
      "id": "975c4418",
      "metadata": {
        "colab": {
          "base_uri": "https://localhost:8080/"
        },
        "id": "975c4418",
        "outputId": "b086c644-0fc9-4c26-c7e8-bfc2fc8c6e24"
      },
      "outputs": [
        {
          "output_type": "stream",
          "name": "stdout",
          "text": [
            "SSE of Cosine K-means when the maximum preset value 100 is complete = 4787.641689948039\n"
          ]
        }
      ],
      "source": [
        "cosine_kmeans_3 = KMeansClustering(k=no_of_clusters, stopping_criterion=\"max_iterations\")\n",
        "cosine_kmeans_3_predicted_labels = cosine_kmeans_3.fit(cosine_distances, max_iterations=Max_iterations)\n",
        "sse_cosine_max_iteration = cosine_kmeans_3.get_sum_of_squared_error()\n",
        "print(f'SSE of Cosine K-means when the maximum preset value {Max_iterations} is complete =',\n",
        "      sse_cosine_max_iteration)"
      ]
    },
    {
      "cell_type": "code",
      "execution_count": 60,
      "id": "bb0d820b",
      "metadata": {
        "colab": {
          "base_uri": "https://localhost:8080/"
        },
        "id": "bb0d820b",
        "outputId": "87265796-3c33-446d-eb86-262168fb569e"
      },
      "outputs": [
        {
          "output_type": "stream",
          "name": "stdout",
          "text": [
            "SSE of Jaccard K-means when the maximum preset value 100 is complete = 1822.2396663347374\n"
          ]
        }
      ],
      "source": [
        "jaccard_kmeans_3 = KMeansClustering(k=no_of_clusters, stopping_criterion=\"max_iterations\")\n",
        "jaccard_kmeans_3_predicted_labels = jaccard_kmeans_3.fit(jaccard_distances, max_iterations=Max_iterations)\n",
        "sse_jarcard_max_iteration = jaccard_kmeans_3.get_sum_of_squared_error()\n",
        "print(f'SSE of Jaccard K-means when the maximum preset value {Max_iterations} is complete =',\n",
        "      sse_jarcard_max_iteration)"
      ]
    },
    {
      "cell_type": "code",
      "execution_count": 61,
      "id": "19450ed7",
      "metadata": {
        "colab": {
          "base_uri": "https://localhost:8080/",
          "height": 143
        },
        "id": "19450ed7",
        "outputId": "3244b6e8-f03c-41ac-c3c9-c027068f5b86"
      },
      "outputs": [
        {
          "output_type": "display_data",
          "data": {
            "text/plain": [
              "<IPython.core.display.Markdown object>"
            ],
            "text/markdown": "\n| Algorithm | No Change in Centroid Position | SSE Value Increases in Next Iteration | Maximum Preset Value of Iterations |\n|------------|--------------------------------|----------------------------------------|-------------------------------------|\n| Euclidean  | 48450382.25619897              | 129016983.95835175                    | 56618625.4482222|\n| Jaccard    |1786.7832535384596          |2349.8999627724443                  |1822.2396663347374        |\n| Cosine     |2713.7960774918047           |12155.85866595439                   |4787.641689948039         |\n"
          },
          "metadata": {}
        }
      ],
      "source": [
        "table = f\"\"\"\n",
        "| Algorithm | No Change in Centroid Position | SSE Value Increases in Next Iteration | Maximum Preset Value of Iterations |\n",
        "|------------|--------------------------------|----------------------------------------|-------------------------------------|\n",
        "| Euclidean  | {sse_euclidean_kmeans_1}              | {sse_euclidean_kmeans_2}                    | {sse_euclidean_max_iteration}|\n",
        "| Jaccard    |{sse_jaccard_kmeans_1}          |{sse_jaccard_kmeans_2}                  |{sse_jarcard_max_iteration}        |\n",
        "| Cosine     |{sse_cosine_kmeans_1}           |{sse_cosine_kmeans_2}                   |{sse_cosine_max_iteration}         |\n",
        "\"\"\"\n",
        "display(Markdown(table))\n"
      ]
    },
    {
      "cell_type": "markdown",
      "id": "a31fe1ae",
      "metadata": {
        "id": "a31fe1ae"
      },
      "source": [
        "### Q5: What are your summary observations or takeaways based on your algorithmic analysis?\n",
        "\n",
        "- Based on the values from the above table, it can be observed that Euclidean K-means has the highest SSE, followed by Cosine K-means and then the Jacard K-means with the lowest SSE.\n",
        "- It can also be noted that Euclidean K-means take more iterations to converge.\n",
        "- Since Jaccard has lower SSE value, it is the better method.\n",
        "\n"
      ]
    }
  ],
  "metadata": {
    "kernelspec": {
      "display_name": "Python 3 (ipykernel)",
      "language": "python",
      "name": "python3"
    },
    "language_info": {
      "codemirror_mode": {
        "name": "ipython",
        "version": 3
      },
      "file_extension": ".py",
      "mimetype": "text/x-python",
      "name": "python",
      "nbconvert_exporter": "python",
      "pygments_lexer": "ipython3",
      "version": "3.9.13"
    },
    "colab": {
      "provenance": []
    }
  },
  "nbformat": 4,
  "nbformat_minor": 5
}